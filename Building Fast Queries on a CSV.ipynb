{
 "cells": [
  {
   "cell_type": "markdown",
   "metadata": {},
   "source": [
    "# Building Fast Queries on a CSV"
   ]
  },
  {
   "cell_type": "markdown",
   "metadata": {},
   "source": [
    "## The Dataset"
   ]
  },
  {
   "cell_type": "markdown",
   "metadata": {},
   "source": [
    "In this project, we will be looking at data from an online laptop store, in order to answer a few different business questions about their inventory.  The data in the `laptops.csv` file which we will use was adapted from the [Laptop Prices dataset on Kaggle](https://www.kaggle.com/ionaskel/laptop-prices)."
   ]
  },
  {
   "cell_type": "markdown",
   "metadata": {},
   "source": [
    "Each row of the dataset contains the following information about each laptop:\n",
    "\n",
    "- **ID**: A unique identifier for the laptop\n",
    "- **Company**: The name of the company that produces the laptop\n",
    "- **Product**: The name of the laptop\n",
    "- **TypeName**: The type of laptop\n",
    "- **Inches**: The size of the screen in inches\n",
    "- **ScreenResolution**: The resolution of the screen\n",
    "- **CPU**: The laptop CPU\n",
    "- **RAM**: The amount of RAM in the laptop\n",
    "- **Memory**: The size of the hard drive\n",
    "- **GPU**: The graphics card name\n",
    "- **OpSys**: The name of the operating system\n",
    "- **Weight**: The weight of the laptop\n",
    "- **Price**: The price of the laptop"
   ]
  },
  {
   "cell_type": "markdown",
   "metadata": {},
   "source": [
    "The purpose of the project is to create different methods to run these queries and find out which methods are the most efficient."
   ]
  },
  {
   "cell_type": "markdown",
   "metadata": {},
   "source": [
    "First, we will explore the data and print the first few rows."
   ]
  },
  {
   "cell_type": "code",
   "execution_count": 1,
   "metadata": {},
   "outputs": [
    {
     "name": "stdout",
     "output_type": "stream",
     "text": [
      "['Id', 'Company', 'Product', 'TypeName', 'Inches', 'ScreenResolution', 'Cpu', 'Ram', 'Memory', 'Gpu', 'OpSys', 'Weight', 'Price']\n",
      "['6571244', 'Apple', 'MacBook Pro', 'Ultrabook', '13.3', 'IPS Panel Retina Display 2560x1600', 'Intel Core i5 2.3GHz', '8GB', '128GB SSD', 'Intel Iris Plus Graphics 640', 'macOS', '1.37kg', '1339']\n",
      "\n",
      "\n",
      "['7287764', 'Apple', 'Macbook Air', 'Ultrabook', '13.3', '1440x900', 'Intel Core i5 1.8GHz', '8GB', '128GB Flash Storage', 'Intel HD Graphics 6000', 'macOS', '1.34kg', '898']\n",
      "\n",
      "\n",
      "['3362737', 'HP', '250 G6', 'Notebook', '15.6', 'Full HD 1920x1080', 'Intel Core i5 7200U 2.5GHz', '8GB', '256GB SSD', 'Intel HD Graphics 620', 'No OS', '1.86kg', '575']\n",
      "\n",
      "\n",
      "['9722156', 'Apple', 'MacBook Pro', 'Ultrabook', '15.4', 'IPS Panel Retina Display 2880x1800', 'Intel Core i7 2.7GHz', '16GB', '512GB SSD', 'AMD Radeon Pro 455', 'macOS', '1.83kg', '2537']\n",
      "\n",
      "\n",
      "['8550527', 'Apple', 'MacBook Pro', 'Ultrabook', '13.3', 'IPS Panel Retina Display 2560x1600', 'Intel Core i5 3.1GHz', '8GB', '256GB SSD', 'Intel Iris Plus Graphics 650', 'macOS', '1.37kg', '1803']\n",
      "\n",
      "\n"
     ]
    }
   ],
   "source": [
    "import csv\n",
    "\n",
    "with open('laptops.csv') as file:\n",
    "    reader = csv.reader(file)\n",
    "    laptops = list(reader)\n",
    "    header = laptops[0]\n",
    "    rows = laptops[1:]\n",
    "    \n",
    "print(header)\n",
    "\n",
    "for row in rows[0:5]:\n",
    "    print(row)\n",
    "    print('\\n')"
   ]
  },
  {
   "cell_type": "markdown",
   "metadata": {},
   "source": [
    "## Inventory Class"
   ]
  },
  {
   "cell_type": "markdown",
   "metadata": {
    "collapsed": true
   },
   "source": [
    "The goal of this project is to create a class that represents the inventory of the laptop store.  The methods in that class will implement queries that we want to answer about the inventory.  We will preprocess the data to make those queries run faster."
   ]
  },
  {
   "cell_type": "markdown",
   "metadata": {},
   "source": [
    "Some of the queries we want to answer are:\n",
    "\n",
    "- Given a laptop id, find the corresponding data.\n",
    "- Given an amount of money, find whether there are two laptops whose total price is that given amount.\n",
    "- Identify all laptops whose price falls within a given budget."
   ]
  },
  {
   "cell_type": "markdown",
   "metadata": {},
   "source": [
    "We will start by implementing the constructor."
   ]
  },
  {
   "cell_type": "code",
   "execution_count": 2,
   "metadata": {},
   "outputs": [
    {
     "name": "stdout",
     "output_type": "stream",
     "text": [
      "['Id', 'Company', 'Product', 'TypeName', 'Inches', 'ScreenResolution', 'Cpu', 'Ram', 'Memory', 'Gpu', 'OpSys', 'Weight', 'Price']\n",
      "1303\n"
     ]
    }
   ],
   "source": [
    "class Inventory():\n",
    "    \n",
    "    def __init__(self, csv_filename):\n",
    "        with open(csv_filename) as file:\n",
    "            reader = csv.reader(file)\n",
    "            data = list(reader)\n",
    "            self.header = data[0]\n",
    "            self.rows = data[1:]\n",
    "            for row in self.rows:\n",
    "                row[-1] = int(row[-1])\n",
    "                \n",
    "inventory = Inventory('laptops.csv')\n",
    "print(inventory.header)\n",
    "print(len(inventory.rows))"
   ]
  },
  {
   "cell_type": "markdown",
   "metadata": {},
   "source": [
    "## Finding a Laptop from the ID"
   ]
  },
  {
   "cell_type": "markdown",
   "metadata": {
    "collapsed": true
   },
   "source": [
    "We will be updating the `Inventory` class throughout the project in order to answer the queries listed previously.\n",
    "\n",
    "The first thing we want to implement is a way to look up a laptop from a given identifier, so that, when a customer comes to the store with a purchase slip, they can quickly identify the laptop to which it corresponds."
   ]
  },
  {
   "cell_type": "markdown",
   "metadata": {},
   "source": [
    "To do this, we will write a function named `get_laptop_from_id()`.  This function will take the identifier of the laptop as an argument and return the full row of the laptop with that ID."
   ]
  },
  {
   "cell_type": "code",
   "execution_count": 3,
   "metadata": {},
   "outputs": [
    {
     "name": "stdout",
     "output_type": "stream",
     "text": [
      "['3362737', 'HP', '250 G6', 'Notebook', '15.6', 'Full HD 1920x1080', 'Intel Core i5 7200U 2.5GHz', '8GB', '256GB SSD', 'Intel HD Graphics 620', 'No OS', '1.86kg', 575]\n",
      "None\n"
     ]
    }
   ],
   "source": [
    "class Inventory():\n",
    "    \n",
    "    def __init__(self, csv_filename):\n",
    "        with open(csv_filename) as file:\n",
    "            reader = csv.reader(file)\n",
    "            data = list(reader)\n",
    "            self.header = data[0]\n",
    "            self.rows = data[1:]\n",
    "            for row in self.rows:\n",
    "                row[-1] = int(row[-1])\n",
    "                \n",
    "    def get_laptop_from_id(self, laptop_id):\n",
    "        for row in self.rows:\n",
    "            if row[0] == laptop_id:\n",
    "                return row\n",
    "        return None\n",
    "        \n",
    "inventory = Inventory('laptops.csv')\n",
    "print(inventory.get_laptop_from_id('3362737'))\n",
    "print(inventory.get_laptop_from_id('3362736'))"
   ]
  },
  {
   "cell_type": "markdown",
   "metadata": {},
   "source": [
    "## Improving ID Lookups"
   ]
  },
  {
   "cell_type": "markdown",
   "metadata": {},
   "source": [
    "The algorithm written above has to look at every single row to find the one specified or decide that it doesn't exist, giving it the time complexity *O(R)*, where *R* is the number of rows.\n",
    "\n",
    "If the dataset was very large, this could slow down the application considerably, so it would be worthwhile for us to preprocess the data to make the algorithm quicker.  Sets and dictionaries can check in constant time whether a given identifier exists, so we could use one of these for our data, instead of a list of lists.  As we want to retrieve all the row information for the laptop, we will use a dictionary, which allows us to associate values to keys."
   ]
  },
  {
   "cell_type": "markdown",
   "metadata": {},
   "source": [
    "In the following code, we will edit the `__init__` method to preprocess the data into a dictionary where the keys are the laptop IDs and the values are the rows, then use that dictionary in the `get_laptop_from_id()` method."
   ]
  },
  {
   "cell_type": "code",
   "execution_count": 4,
   "metadata": {},
   "outputs": [
    {
     "name": "stdout",
     "output_type": "stream",
     "text": [
      "['3362737', 'HP', '250 G6', 'Notebook', '15.6', 'Full HD 1920x1080', 'Intel Core i5 7200U 2.5GHz', '8GB', '256GB SSD', 'Intel HD Graphics 620', 'No OS', '1.86kg', 575]\n",
      "None\n"
     ]
    }
   ],
   "source": [
    "class Inventory():\n",
    "    \n",
    "    def __init__(self, csv_filename):\n",
    "        with open(csv_filename) as file:\n",
    "            reader = csv.reader(file)\n",
    "            data = list(reader)\n",
    "            self.header = data[0]\n",
    "            self.rows = data[1:]\n",
    "            for row in self.rows:\n",
    "                row[-1] = int(row[-1])\n",
    "            self.id_to_row = {}\n",
    "            for row in self.rows:\n",
    "                self.id_to_row[row[0]] = row\n",
    "                \n",
    "    def get_laptop_from_id(self, laptop_id):\n",
    "        for row in self.rows:\n",
    "            if row[0] == laptop_id:\n",
    "                return row\n",
    "        return None \n",
    "    \n",
    "    def get_laptop_from_id_fast(self, laptop_id):\n",
    "        if laptop_id in self.id_to_row:\n",
    "            return self.id_to_row[laptop_id]\n",
    "        return None\n",
    "    \n",
    "inventory = Inventory('laptops.csv')\n",
    "print(inventory.get_laptop_from_id_fast('3362737'))\n",
    "print(inventory.get_laptop_from_id_fast('3362736'))"
   ]
  },
  {
   "cell_type": "markdown",
   "metadata": {},
   "source": [
    "# Comparing the Performance"
   ]
  },
  {
   "cell_type": "markdown",
   "metadata": {
    "collapsed": true
   },
   "source": [
    "We have created two methods with which to find a laptop given an ID, namely `get_laptop_from_id()` and `get_laptop_from_id_fast()`.  The first one has the time complexity *O(R)*, where *R* is the number of rows, and the new method has the time complexity *O(1)* as it uses more memory to store the `self.id_to_row` dictionary and uses slightly more time creating the dictionary as an instance. Now, we will compare the performance of those two methods by generating random IDs and using both methods to lookup the same IDs.  We will use the `time` module to measure the execution time of each lookup, for each method, and add all the times together."
   ]
  },
  {
   "cell_type": "code",
   "execution_count": 5,
   "metadata": {},
   "outputs": [
    {
     "name": "stdout",
     "output_type": "stream",
     "text": [
      "Time with no dictionary: 1.2291452884674072\n",
      "Time with dictionary: 0.006325960159301758\n"
     ]
    }
   ],
   "source": [
    "import time\n",
    "import random\n",
    "\n",
    "ids = [str(random.randint(1000000, 9999999)) for _ in range (10000)]\n",
    "\n",
    "inventory = Inventory('laptops.csv')\n",
    "\n",
    "### calculating time for lookup using `get_laptop_from_id()` ###\n",
    "total_time_no_dict = 0\n",
    "for id in ids:\n",
    "    start = time.time()\n",
    "    inventory.get_laptop_from_id(id)\n",
    "    end = time.time()\n",
    "    total_time_no_dict += end - start\n",
    "    \n",
    "### calculating time for lookup using `get_laptop_from_id_fast()` ###\n",
    "total_time_dict = 0\n",
    "for id in ids:\n",
    "    start = time.time()\n",
    "    inventory.get_laptop_from_id_fast(id)\n",
    "    end = time.time()\n",
    "    total_time_dict += end - start\n",
    "    \n",
    "print('Time with no dictionary:', total_time_no_dict)\n",
    "print('Time with dictionary:', total_time_dict)"
   ]
  },
  {
   "cell_type": "markdown",
   "metadata": {},
   "source": [
    "Looking at the above times, we can see that using a dictionary makes the algorithm approximately (1.229/0.006) = **204** times faster than with no dictionary."
   ]
  },
  {
   "cell_type": "markdown",
   "metadata": {},
   "source": [
    "# Two Laptop Promotion"
   ]
  },
  {
   "cell_type": "markdown",
   "metadata": {},
   "source": [
    "The online laptop store offers a gift card which can be used to buy up to two laptops.  We want to run a query to find out whether they can spend the amount of the card in full by buying either one laptop which costs the total amount on the card, or by buying two laptops whose prices add up to the total amount on the card.  We will update the `Inventory()` class and create this function in the following code."
   ]
  },
  {
   "cell_type": "code",
   "execution_count": 6,
   "metadata": {},
   "outputs": [
    {
     "name": "stdout",
     "output_type": "stream",
     "text": [
      "True\n",
      "False\n"
     ]
    }
   ],
   "source": [
    "### first we update the `Inventory()` class ###\n",
    "\n",
    "class Inventory():\n",
    "    \n",
    "    def __init__(self, csv_filename):\n",
    "        with open(csv_filename) as file:\n",
    "            reader = csv.reader(file)\n",
    "            data = list(reader)\n",
    "            self.header = data[0]\n",
    "            self.rows = data[1:]\n",
    "            for row in self.rows:\n",
    "                row[-1] = int(row[-1])\n",
    "            self.id_to_row = {}\n",
    "            for row in self.rows:\n",
    "                self.id_to_row[row[0]] = row\n",
    "                \n",
    "    def get_laptop_from_id(self, laptop_id):\n",
    "        for row in self.rows:\n",
    "            if row[0] == laptop_id:\n",
    "                return row\n",
    "        return None \n",
    "    \n",
    "    def get_laptop_from_id_fast(self, laptop_id):\n",
    "        if laptop_id in self.id_to_row:\n",
    "            return self.id_to_row[laptop_id]\n",
    "        return None\n",
    "    \n",
    "    def check_promotion_dollars(self, dollars):\n",
    "        for row in self.rows:\n",
    "            if row[-1] == dollars:\n",
    "                return True\n",
    "        for i in self.rows:\n",
    "            for j in self.rows:\n",
    "                if i + j == dollars:\n",
    "                    return True\n",
    "        return False  \n",
    "        \n",
    "### then test the new function ###\n",
    "\n",
    "inventory = Inventory('laptops.csv')\n",
    "\n",
    "print(inventory.check_promotion_dollars(1000))\n",
    "print(inventory.check_promotion_dollars(442))"
   ]
  },
  {
   "cell_type": "markdown",
   "metadata": {},
   "source": [
    "# Optimising Laptop Promotion"
   ]
  },
  {
   "cell_type": "markdown",
   "metadata": {},
   "source": [
    "As we did with the previous query of finding a laptop from an ID, we can also optimise the algorithm for `check_promotion_dollars()` by preprocessing the data.  As we only want to find out whether there is a True or False answer, we can use a set instead of a dictionary this time to store all of the laptop prices.  Then, we will be able to check in constant time whether there is a laptop with a given price within that set."
   ]
  },
  {
   "cell_type": "markdown",
   "metadata": {},
   "source": [
    "We will again update the `Inventory()` class below and add a new method."
   ]
  },
  {
   "cell_type": "code",
   "execution_count": 7,
   "metadata": {
    "collapsed": true
   },
   "outputs": [],
   "source": [
    "class Inventory():\n",
    "    \n",
    "    def __init__(self, csv_filename):\n",
    "        with open(csv_filename) as file:\n",
    "            reader = csv.reader(file)\n",
    "            data = list(reader)\n",
    "            self.header = data[0]\n",
    "            self.rows = data[1:]\n",
    "            for row in self.rows:\n",
    "                row[-1] = int(row[-1])\n",
    "            self.id_to_row = {}\n",
    "            for row in self.rows:\n",
    "                self.id_to_row[row[0]] = row\n",
    "            self.prices = set()\n",
    "            for row in self.rows:\n",
    "                self.prices.add(row[-1])\n",
    "                \n",
    "    def get_laptop_from_id(self, laptop_id):\n",
    "        for row in self.rows:\n",
    "            if row[0] == laptop_id:\n",
    "                return row\n",
    "        return None \n",
    "    \n",
    "    def get_laptop_from_id_fast(self, laptop_id):\n",
    "        if laptop_id in self.id_to_row:\n",
    "            return self.id_to_row[laptop_id]\n",
    "        return None\n",
    "    \n",
    "    def check_promotion_dollars(self, dollars):\n",
    "        for row in self.rows:\n",
    "            if row[-1] == dollars:\n",
    "                return True\n",
    "        for i in self.rows:\n",
    "            for j in self.rows:\n",
    "                if i + j == dollars:\n",
    "                    return True\n",
    "        return False  \n",
    "    \n",
    "    def check_promotion_dollars_fast(self, dollars):\n",
    "        if dollars in self.prices:\n",
    "            return True\n",
    "        for price in self.prices:\n",
    "            if dollars - price in self.prices:\n",
    "                return True\n",
    "        return False   "
   ]
  },
  {
   "cell_type": "markdown",
   "metadata": {},
   "source": [
    "Now we can test the `Inventory()` class using the new method."
   ]
  },
  {
   "cell_type": "code",
   "execution_count": 8,
   "metadata": {},
   "outputs": [
    {
     "name": "stdout",
     "output_type": "stream",
     "text": [
      "True\n",
      "False\n"
     ]
    }
   ],
   "source": [
    "inventory = Inventory('laptops.csv')\n",
    "\n",
    "print(inventory.check_promotion_dollars_fast(1000))\n",
    "print(inventory.check_promotion_dollars_fast(442))"
   ]
  },
  {
   "cell_type": "markdown",
   "metadata": {},
   "source": [
    "# Comparing Promotion Functions"
   ]
  },
  {
   "cell_type": "markdown",
   "metadata": {},
   "source": [
    "Now we will compare the performance of `check_promotion_dollars()` and `check_promotion_dollars_fast()` as we did before with the IDs function."
   ]
  },
  {
   "cell_type": "code",
   "execution_count": 9,
   "metadata": {},
   "outputs": [
    {
     "name": "stdout",
     "output_type": "stream",
     "text": [
      "Time with no set: 57.642812728881836\n",
      "Time with set: 0.0004494190216064453\n"
     ]
    }
   ],
   "source": [
    "prices = [random.randint(100, 5000) for _ in range (100)]\n",
    "\n",
    "inventory = Inventory('laptops.csv')\n",
    "\n",
    "### testing the speed of `check_promotion_dollars()` ###\n",
    "total_time_no_set = 0\n",
    "for price in prices:\n",
    "    start = time.time()\n",
    "    inventory.check_promotion_dollars(price)\n",
    "    end = time.time()\n",
    "    total_time_no_set += end - start\n",
    "    \n",
    "### testing the speed of `check_promotion_dollars_fast()` ###\n",
    "total_time_set = 0\n",
    "for price in prices:\n",
    "    start = time.time()\n",
    "    inventory.check_promotion_dollars_fast(price)\n",
    "    end = time.time()\n",
    "    total_time_set += end - start\n",
    "    \n",
    "print('Time with no set:', total_time_no_set)\n",
    "print('Time with set:', total_time_set)"
   ]
  },
  {
   "cell_type": "markdown",
   "metadata": {},
   "source": [
    "We can calculate that the algorithm which uses preprocessing is (57.642813/0.000449) = approximately **13,000** times faster than without preprocessing."
   ]
  },
  {
   "cell_type": "markdown",
   "metadata": {},
   "source": [
    "# Finding Laptops Within a Budget"
   ]
  },
  {
   "cell_type": "markdown",
   "metadata": {},
   "source": [
    "The final query we want to look at is to identify all laptops whose price falls within a certain budget.  \n",
    "\n",
    "If we sort all laptops by price, we can then use binary search to identify the first laptop in the sorted list which has a price higher than the given amount.  This will make the search more efficient as it will stop as soon as it finds the first laptop which is over budget, rather than having to search the entire data set."
   ]
  },
  {
   "cell_type": "markdown",
   "metadata": {},
   "source": [
    "First, we will again update the `Inventory()` class to include a method which finds the first laptop which is more expensive than the given budget amount."
   ]
  },
  {
   "cell_type": "code",
   "execution_count": 10,
   "metadata": {},
   "outputs": [],
   "source": [
    "def row_price(row):\n",
    "    return row[-1]\n",
    "\n",
    "class Inventory():\n",
    "    \n",
    "    def __init__(self, csv_filename):\n",
    "        with open(csv_filename) as file:\n",
    "            reader = csv.reader(file)\n",
    "            data = list(reader)\n",
    "            self.header = data[0]\n",
    "            self.rows = data[1:]\n",
    "            for row in self.rows:\n",
    "                row[-1] = int(row[-1])\n",
    "            self.id_to_row = {}\n",
    "            for row in self.rows:\n",
    "                self.id_to_row[row[0]] = row\n",
    "            self.prices = set()\n",
    "            for row in self.rows:\n",
    "                self.prices.add(row[-1])\n",
    "            for row in self.rows:\n",
    "                self.rows_by_price = sorted(self.rows, key = row_price)\n",
    "                \n",
    "    def get_laptop_from_id(self, laptop_id):\n",
    "        for row in self.rows:\n",
    "            if row[0] == laptop_id:\n",
    "                return row\n",
    "        return None \n",
    "    \n",
    "    def get_laptop_from_id_fast(self, laptop_id):\n",
    "        if laptop_id in self.id_to_row:\n",
    "            return self.id_to_row[laptop_id]\n",
    "        return None\n",
    "    \n",
    "    def check_promotion_dollars(self, dollars):\n",
    "        for row in self.rows:\n",
    "            if row[-1] == dollars:\n",
    "                return True\n",
    "        for i in self.rows:\n",
    "            for j in self.rows:\n",
    "                if i + j == dollars:\n",
    "                    return True\n",
    "        return False  \n",
    "    \n",
    "    def check_promotion_dollars_fast(self, dollars):\n",
    "        if dollars in self.prices:\n",
    "            return True\n",
    "        for price in self.prices:\n",
    "            if dollars - price in self.prices:\n",
    "                return True\n",
    "        return False   \n",
    "    \n",
    "    def find_first_laptop_more_expensive(self, target_price):\n",
    "        range_start = 0\n",
    "        range_end = len(self.rows_by_price) - 1\n",
    "        while range_start < range_end:\n",
    "            range_middle = (range_end + range_start) // 2\n",
    "            price = self.rows_by_price[range_middle][-1]\n",
    "            if price == target_price:\n",
    "                return range_middle\n",
    "            elif price < target_price:\n",
    "                range_start = range_middle + 1\n",
    "            else:\n",
    "                range_end = range_middle - 1\n",
    "        price = self.rows_by_price[range_start][-1]\n",
    "        if price != target_price:\n",
    "            return -1\n",
    "        return range_start"
   ]
  },
  {
   "cell_type": "markdown",
   "metadata": {},
   "source": [
    "Now we will test the new function in the `Inventory()` class."
   ]
  },
  {
   "cell_type": "code",
   "execution_count": 11,
   "metadata": {},
   "outputs": [
    {
     "name": "stdout",
     "output_type": "stream",
     "text": [
      "682\n",
      "-1\n"
     ]
    }
   ],
   "source": [
    "inventory = Inventory('laptops.csv')\n",
    "\n",
    "print(inventory.find_first_laptop_more_expensive(1000))\n",
    "print(inventory.find_first_laptop_more_expensive(10000))"
   ]
  },
  {
   "cell_type": "markdown",
   "metadata": {
    "collapsed": true
   },
   "source": [
    "# Conclusion"
   ]
  },
  {
   "cell_type": "markdown",
   "metadata": {},
   "source": [
    "In this project, we have looked at a dataset from an online laptop store containg information on all of the laptops in their inventory.\n",
    "\n",
    "We have explored the use of different methods to answer questions about the data, with the intention of showing that algorithms can be made much more efficient by preprocessing the data. "
   ]
  },
  {
   "cell_type": "markdown",
   "metadata": {},
   "source": [
    "*It should be noted that, whenever we have tested a function using random values created by `random.randint()`, they will have slightly different results each time the code is run, but they give us an approximate idea of the picture.*"
   ]
  }
 ],
 "metadata": {
  "kernelspec": {
   "display_name": "Python 3",
   "language": "python",
   "name": "python3"
  },
  "language_info": {
   "codemirror_mode": {
    "name": "ipython",
    "version": 3
   },
   "file_extension": ".py",
   "mimetype": "text/x-python",
   "name": "python",
   "nbconvert_exporter": "python",
   "pygments_lexer": "ipython3",
   "version": "3.7.6"
  }
 },
 "nbformat": 4,
 "nbformat_minor": 2
}
